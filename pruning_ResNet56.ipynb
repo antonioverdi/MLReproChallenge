{
 "cells": [
  {
   "cell_type": "markdown",
   "metadata": {},
   "source": [
    "### Pruning ResNet-56 for CIFAR-10\n",
    "\n",
    "#### In this notebook we...\n",
    "- Load ResNet-56 model we previously trained on CIFAR-10\n",
    "- Prune 20% of the weights using l1 unstructured (can be easily changed to random unstructured)\n",
    "- Test the pruned model\n",
    "- Save the pruned model to \"./models/resnet_56_sparse.th\"\n",
    "\n",
    "\n",
    "#### Important Notes\n",
    "- Cells must be run in order (especially for the actual pruning as rerunning code blocks will result in further pruning)\n",
    "- "
   ]
  },
  {
   "cell_type": "code",
   "execution_count": 18,
   "metadata": {},
   "outputs": [],
   "source": [
    "import torch\n",
    "import torch.nn as nn\n",
    "import torch.optim as optim\n",
    "import torch.nn.functional as F\n",
    "import torch.backends.cudnn as cudnn\n",
    "from torchsummary import summary\n",
    "import torch.nn.utils.prune as prune\n",
    "\n",
    "import torchvision\n",
    "import torchvision.transforms as transforms\n",
    "\n",
    "import os\n",
    "import argparse\n",
    "\n",
    "from resnet import resnet56"
   ]
  },
  {
   "cell_type": "code",
   "execution_count": 19,
   "metadata": {},
   "outputs": [],
   "source": [
    "criterion = nn.CrossEntropyLoss()\n",
    "\n",
    "def test():\n",
    "    global best_acc\n",
    "    model.eval()\n",
    "    test_loss = 0\n",
    "    correct = 0\n",
    "    total = 0\n",
    "    with torch.no_grad():\n",
    "        for batch_idx, (inputs, targets) in enumerate(testloader):\n",
    "            inputs, targets = inputs.to(device), targets.to(device)\n",
    "            outputs = model(inputs)\n",
    "            loss = criterion(outputs, targets)\n",
    "\n",
    "            test_loss += loss.item()\n",
    "            _, predicted = outputs.max(1)\n",
    "            total += targets.size(0) \n",
    "            correct += predicted.eq(targets).sum().item()\n",
    "    \n",
    "    acc = 100.*correct/total\n",
    "    print(acc)"
   ]
  },
  {
   "cell_type": "code",
   "execution_count": 20,
   "metadata": {},
   "outputs": [
    {
     "name": "stdout",
     "output_type": "stream",
     "text": [
      "cuda\n"
     ]
    }
   ],
   "source": [
    "device = 'cuda' if torch.cuda.is_available() else 'cpu'\n",
    "print(device)"
   ]
  },
  {
   "cell_type": "code",
   "execution_count": 21,
   "metadata": {},
   "outputs": [
    {
     "name": "stdout",
     "output_type": "stream",
     "text": [
      "==> Preparing data..\n",
      "Files already downloaded and verified\n",
      "Files already downloaded and verified\n"
     ]
    }
   ],
   "source": [
    "print('==> Preparing data..')\n",
    "transform_train = transforms.Compose([\n",
    "    transforms.RandomCrop(32, padding=4),\n",
    "    transforms.RandomHorizontalFlip(),\n",
    "    transforms.ToTensor(),\n",
    "    transforms.Normalize((0.4914, 0.4822, 0.4465), (0.2023, 0.1994, 0.2010)),\n",
    "])\n",
    "\n",
    "transform_test = transforms.Compose([\n",
    "    transforms.ToTensor(),\n",
    "    transforms.Normalize((0.4914, 0.4822, 0.4465), (0.2023, 0.1994, 0.2010)),\n",
    "])\n",
    "\n",
    "trainset = torchvision.datasets.CIFAR10(\n",
    "    root='./data', train=True, download=True, transform=transform_train)\n",
    "trainloader = torch.utils.data.DataLoader(\n",
    "    trainset, batch_size=128, shuffle=True, num_workers=0)\n",
    "\n",
    "testset = torchvision.datasets.CIFAR10(\n",
    "    root='./data', train=False, download=True, transform=transform_test)\n",
    "testloader = torch.utils.data.DataLoader(\n",
    "    testset, batch_size=100, shuffle=False, num_workers=0)\n",
    "\n",
    "classes = ('plane', 'car', 'bird', 'cat', 'deer',\n",
    "           'dog', 'frog', 'horse', 'ship', 'truck')"
   ]
  },
  {
   "cell_type": "code",
   "execution_count": 22,
   "metadata": {},
   "outputs": [
    {
     "data": {
      "text/plain": [
       "<All keys matched successfully>"
      ]
     },
     "execution_count": 22,
     "metadata": {},
     "output_type": "execute_result"
    }
   ],
   "source": [
    "PATH = './models/resnet_56_dense.th'\n",
    "model = resnet56()\n",
    "model = model.to(device)\n",
    "trained_model = torch.load(PATH)\n",
    "if device == 'cuda':\n",
    "    model = torch.nn.DataParallel(model)\n",
    "    cudnn.benchmark = True\n",
    "model.load_state_dict(trained_model['state_dict'])"
   ]
  },
  {
   "cell_type": "code",
   "execution_count": 23,
   "metadata": {},
   "outputs": [
    {
     "name": "stdout",
     "output_type": "stream",
     "text": [
      "92.33\n"
     ]
    }
   ],
   "source": [
    "test()"
   ]
  },
  {
   "cell_type": "code",
   "execution_count": 13,
   "metadata": {},
   "outputs": [],
   "source": [
    "# Pruning 20% of weights using l1 unstructured\n",
    "for name, module in model.named_modules():\n",
    "    # prune 20% of connections in all 2D-conv layers\n",
    "    if isinstance(module, torch.nn.Conv2d):\n",
    "        prune.l1_unstructured(module, name='weight', amount=0.2)\n",
    "        prune.remove(module, 'weight') \n",
    "    # prune 20% of connections in all linear layers\n",
    "    elif isinstance(module, torch.nn.Linear):\n",
    "        prune.l1_unstructured(module, name='weight', amount=0.2)\n",
    "        prune.remove(module, 'weight')"
   ]
  },
  {
   "cell_type": "code",
   "execution_count": 14,
   "metadata": {},
   "outputs": [
    {
     "name": "stdout",
     "output_type": "stream",
     "text": [
      "0.19907407407407407\n",
      "0.20008680555555555\n",
      "0.20008680555555555\n",
      "0.20008680555555555\n",
      "0.20008680555555555\n",
      "0.20008680555555555\n",
      "0.20008680555555555\n",
      "0.20008680555555555\n",
      "0.20008680555555555\n",
      "0.20008680555555555\n",
      "0.20008680555555555\n",
      "0.20008680555555555\n",
      "0.20008680555555555\n",
      "0.20008680555555555\n",
      "0.20008680555555555\n",
      "0.20008680555555555\n",
      "0.20008680555555555\n",
      "0.20008680555555555\n",
      "0.20008680555555555\n",
      "0.20008680555555555\n",
      "0.1999782986111111\n",
      "0.1999782986111111\n",
      "0.1999782986111111\n",
      "0.1999782986111111\n",
      "0.1999782986111111\n",
      "0.1999782986111111\n",
      "0.1999782986111111\n",
      "0.1999782986111111\n",
      "0.1999782986111111\n",
      "0.1999782986111111\n",
      "0.1999782986111111\n",
      "0.1999782986111111\n",
      "0.1999782986111111\n",
      "0.1999782986111111\n",
      "0.1999782986111111\n",
      "0.1999782986111111\n",
      "0.1999782986111111\n",
      "0.1999782986111111\n",
      "0.2000054253472222\n",
      "0.2000054253472222\n",
      "0.2000054253472222\n",
      "0.2000054253472222\n",
      "0.2000054253472222\n",
      "0.2000054253472222\n",
      "0.2000054253472222\n",
      "0.2000054253472222\n",
      "0.2000054253472222\n",
      "0.2000054253472222\n",
      "0.2000054253472222\n",
      "0.2000054253472222\n",
      "0.2000054253472222\n",
      "0.2000054253472222\n",
      "0.2000054253472222\n",
      "0.2000054253472222\n",
      "0.2000054253472222\n",
      "0.2\n"
     ]
    }
   ],
   "source": [
    "# Sanity check for sparsity:\n",
    "for name, module in model.named_modules():\n",
    "    if isinstance(module, torch.nn.Conv2d):\n",
    "        print(float(torch.sum(module.weight == 0)) / float(module.weight.nelement()))\n",
    "    elif isinstance(module, torch.nn.Linear):\n",
    "        print(float(torch.sum(module.weight == 0)) / float(module.weight.nelement()))"
   ]
  },
  {
   "cell_type": "code",
   "execution_count": 16,
   "metadata": {},
   "outputs": [
    {
     "name": "stdout",
     "output_type": "stream",
     "text": [
      "92.37\n"
     ]
    }
   ],
   "source": [
    "test()"
   ]
  },
  {
   "cell_type": "code",
   "execution_count": 17,
   "metadata": {},
   "outputs": [],
   "source": [
    "torch.save(model.state_dict(), './models/resnet_56_sparse.th')"
   ]
  },
  {
   "cell_type": "code",
   "execution_count": null,
   "metadata": {},
   "outputs": [],
   "source": []
  },
  {
   "cell_type": "code",
   "execution_count": null,
   "metadata": {},
   "outputs": [],
   "source": []
  },
  {
   "cell_type": "code",
   "execution_count": null,
   "metadata": {},
   "outputs": [],
   "source": []
  },
  {
   "cell_type": "code",
   "execution_count": null,
   "metadata": {},
   "outputs": [],
   "source": []
  },
  {
   "cell_type": "code",
   "execution_count": null,
   "metadata": {},
   "outputs": [],
   "source": []
  }
 ],
 "metadata": {
  "kernelspec": {
   "display_name": "Python 3",
   "language": "python",
   "name": "python3"
  },
  "language_info": {
   "codemirror_mode": {
    "name": "ipython",
    "version": 3
   },
   "file_extension": ".py",
   "mimetype": "text/x-python",
   "name": "python",
   "nbconvert_exporter": "python",
   "pygments_lexer": "ipython3",
   "version": "3.6.5"
  }
 },
 "nbformat": 4,
 "nbformat_minor": 4
}
