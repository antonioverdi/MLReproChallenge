{
 "cells": [
  {
   "cell_type": "markdown",
   "metadata": {},
   "source": [
    "# Install Repository"
   ]
  },
  {
   "cell_type": "code",
   "execution_count": null,
   "metadata": {},
   "outputs": [],
   "source": [
    "#first time run\n",
    "!git clone https://github.com/antonioverdi/MLReproChallenge.git\n",
    "#At the moment all requirements are met by Google Colab already I believe\n",
    "import os\n",
    "os.chdir(\"MLReprochallenge\")\n",
    "!pip install -r requirements.txt"
   ]
  },
  {
   "cell_type": "code",
   "execution_count": null,
   "metadata": {},
   "outputs": [],
   "source": [
    "#subsequent runs\n",
    "!git pull\n",
    "!pip install -r requirements.txt"
   ]
  },
  {
   "cell_type": "markdown",
   "metadata": {},
   "source": [
    "# Train Models\n",
    "### Main.py Arguments\n",
    "<table>\n",
    "    <tr><th>Argument</th><th>Default</th><th>help</th></tr>\n",
    "    <tr><td>--arch, - a</td><td>str: 'resnet56'</td><td>model architecture</td></tr>\n",
    "    <tr><td>-j, --workers</td><td>int: 4</td><td>number of data loading workers</td></tr>\n",
    "    <tr><td>--epochs</td><td>int: 182</td><td>number of total epochs to run</td></tr>\n",
    "    <tr><td>--start-epoch</td><td>int: 0</td><td>manual epoch number, for restarts</td></tr>\n",
    "    <tr><td>-b, --batch-size</td><td>int: 128</td><td>mini-batch size</td></tr>\n",
    "    <tr><td>--lr, --learning-rate</td><td>float: 0.1</td><td>initial learning rate</td></tr>\n",
    "    <tr><td>--momentum</td><td>float: 0.9</td><td>momentum</td></tr>\n",
    "    <tr><td>--weight-decay, --wd</td><td>float: 2e-4</td><td>weight decay</td></tr>\n",
    "    <tr><td>--print-freq, -p</td><td>int: 50</td><td>print frequency</td></tr>\n",
    "    <tr><td>--resume</td><td>str: ' '</td><td>path to latest checkpoint</td></tr>\n",
    "    <tr><td>-e, --evaluate</td><td>bool: False</td><td>evaluate model on validation set</td></tr>\n",
    "    <tr><td>--pretrained</td><td>bool: False</td><td>use pre-trained model</td></tr>\n",
    "    <tr><td>--half</td><td>bool: False</td><td>use half-precision float(16-bit)</td></tr>\n",
    "    <tr><td>--save-dir</td><td>str: 'save_temp'</td><td>Directory used to save trained models</td></tr>\n",
    "    <tr><td>--save-every</td><td>int: 10</td><td>Save checkpoint at every specified number of epochs</td></tr>\n",
    "    <tr><td>--colab</td><td>bool: False</td><td>Set this to true when running in Google Colab</td></tr>\n",
    "   </table>"
   ]
  },
  {
   "cell_type": "code",
   "execution_count": 10,
   "metadata": {},
   "outputs": [
    {
     "name": "stdout",
     "output_type": "stream",
     "text": [
      "L0Conv2d(16, 16, kernel_size=(3, 3), stride=(1, 1), droprate_init=0.5, temperature=0.6666666666666666, prior_prec=1.4285714285714286, lamba=1.0, local_rep=False, padding=(1, 1), bias=False)\n",
      "MAPConv2d(16, 16, kernel_size=(3, 3) , stride=(1, 1), weight_decay=1, padding=(1, 1), bias=False)\n",
      "L0Conv2d(16, 16, kernel_size=(3, 3), stride=(1, 1), droprate_init=0.5, temperature=0.6666666666666666, prior_prec=1.4285714285714286, lamba=1.0, local_rep=False, padding=(1, 1), bias=False)\n",
      "MAPConv2d(16, 16, kernel_size=(3, 3) , stride=(1, 1), weight_decay=1, padding=(1, 1), bias=False)\n",
      "L0Conv2d(16, 16, kernel_size=(3, 3), stride=(1, 1), droprate_init=0.5, temperature=0.6666666666666666, prior_prec=1.4285714285714286, lamba=1.0, local_rep=False, padding=(1, 1), bias=False)\n",
      "MAPConv2d(16, 16, kernel_size=(3, 3) , stride=(1, 1), weight_decay=1, padding=(1, 1), bias=False)\n",
      "L0Conv2d(16, 16, kernel_size=(3, 3), stride=(1, 1), droprate_init=0.5, temperature=0.6666666666666666, prior_prec=1.4285714285714286, lamba=1.0, local_rep=False, padding=(1, 1), bias=False)\n",
      "MAPConv2d(16, 16, kernel_size=(3, 3) , stride=(1, 1), weight_decay=1, padding=(1, 1), bias=False)\n",
      "L0Conv2d(16, 16, kernel_size=(3, 3), stride=(1, 1), droprate_init=0.5, temperature=0.6666666666666666, prior_prec=1.4285714285714286, lamba=1.0, local_rep=False, padding=(1, 1), bias=False)\n",
      "MAPConv2d(16, 16, kernel_size=(3, 3) , stride=(1, 1), weight_decay=1, padding=(1, 1), bias=False)\n",
      "L0Conv2d(16, 32, kernel_size=(3, 3), stride=(1, 1), droprate_init=0.5, temperature=0.6666666666666666, prior_prec=1.4285714285714286, lamba=1.0, local_rep=False, padding=(1, 1), bias=False)\n",
      "MAPConv2d(32, 32, kernel_size=(3, 3) , stride=(2, 2), weight_decay=1, padding=(1, 1), bias=False)\n",
      "MAPConv2d(16, 32, kernel_size=(1, 1) , stride=(2, 2), weight_decay=1, bias=False)\n",
      "L0Conv2d(32, 32, kernel_size=(3, 3), stride=(1, 1), droprate_init=0.5, temperature=0.6666666666666666, prior_prec=1.4285714285714286, lamba=1.0, local_rep=False, padding=(1, 1), bias=False)\n",
      "MAPConv2d(32, 32, kernel_size=(3, 3) , stride=(1, 1), weight_decay=1, padding=(1, 1), bias=False)\n",
      "L0Conv2d(32, 32, kernel_size=(3, 3), stride=(1, 1), droprate_init=0.5, temperature=0.6666666666666666, prior_prec=1.4285714285714286, lamba=1.0, local_rep=False, padding=(1, 1), bias=False)\n",
      "MAPConv2d(32, 32, kernel_size=(3, 3) , stride=(1, 1), weight_decay=1, padding=(1, 1), bias=False)\n",
      "L0Conv2d(32, 32, kernel_size=(3, 3), stride=(1, 1), droprate_init=0.5, temperature=0.6666666666666666, prior_prec=1.4285714285714286, lamba=1.0, local_rep=False, padding=(1, 1), bias=False)\n",
      "MAPConv2d(32, 32, kernel_size=(3, 3) , stride=(1, 1), weight_decay=1, padding=(1, 1), bias=False)\n",
      "L0Conv2d(32, 32, kernel_size=(3, 3), stride=(1, 1), droprate_init=0.5, temperature=0.6666666666666666, prior_prec=1.4285714285714286, lamba=1.0, local_rep=False, padding=(1, 1), bias=False)\n",
      "MAPConv2d(32, 32, kernel_size=(3, 3) , stride=(1, 1), weight_decay=1, padding=(1, 1), bias=False)\n",
      "L0Conv2d(32, 64, kernel_size=(3, 3), stride=(1, 1), droprate_init=0.5, temperature=0.6666666666666666, prior_prec=1.4285714285714286, lamba=1.0, local_rep=False, padding=(1, 1), bias=False)\n",
      "MAPConv2d(64, 64, kernel_size=(3, 3) , stride=(2, 2), weight_decay=1, padding=(1, 1), bias=False)\n",
      "MAPConv2d(32, 64, kernel_size=(1, 1) , stride=(2, 2), weight_decay=1, bias=False)\n",
      "L0Conv2d(64, 64, kernel_size=(3, 3), stride=(1, 1), droprate_init=0.5, temperature=0.6666666666666666, prior_prec=1.4285714285714286, lamba=1.0, local_rep=False, padding=(1, 1), bias=False)\n",
      "MAPConv2d(64, 64, kernel_size=(3, 3) , stride=(1, 1), weight_decay=1, padding=(1, 1), bias=False)\n",
      "L0Conv2d(64, 64, kernel_size=(3, 3), stride=(1, 1), droprate_init=0.5, temperature=0.6666666666666666, prior_prec=1.4285714285714286, lamba=1.0, local_rep=False, padding=(1, 1), bias=False)\n",
      "MAPConv2d(64, 64, kernel_size=(3, 3) , stride=(1, 1), weight_decay=1, padding=(1, 1), bias=False)\n",
      "L0Conv2d(64, 64, kernel_size=(3, 3), stride=(1, 1), droprate_init=0.5, temperature=0.6666666666666666, prior_prec=1.4285714285714286, lamba=1.0, local_rep=False, padding=(1, 1), bias=False)\n",
      "MAPConv2d(64, 64, kernel_size=(3, 3) , stride=(1, 1), weight_decay=1, padding=(1, 1), bias=False)\n",
      "L0Conv2d(64, 64, kernel_size=(3, 3), stride=(1, 1), droprate_init=0.5, temperature=0.6666666666666666, prior_prec=1.4285714285714286, lamba=1.0, local_rep=False, padding=(1, 1), bias=False)\n",
      "MAPConv2d(64, 64, kernel_size=(3, 3) , stride=(1, 1), weight_decay=1, padding=(1, 1), bias=False)\n",
      "Wall time: 1.04 s\n"
     ]
    },
    {
     "name": "stderr",
     "output_type": "stream",
     "text": [
      "C:\\Users\\juggl\\OneDrive\\Desktop\\Concordia\\COMP 432\\Project\\MLReproChallenge\\l0_layers.py:191: UserWarning: nn.init.kaiming_normal is now deprecated in favor of nn.init.kaiming_normal_.\n",
      "  init.kaiming_normal(self.weights, mode='fan_in')\n",
      "C:\\Users\\juggl\\OneDrive\\Desktop\\Concordia\\COMP 432\\Project\\MLReproChallenge\\base_layers.py:93: UserWarning: nn.init.kaiming_normal is now deprecated in favor of nn.init.kaiming_normal_.\n",
      "  init.kaiming_normal(self.weight, mode='fan_in')\n",
      "Traceback (most recent call last):\n",
      "  File \"main.py\", line 312, in <module>\n",
      "    main()\n",
      "  File \"main.py\", line 70, in main\n",
      "    model.cuda()\n",
      "  File \"C:\\Toolkits\\anaconda3-5.2.0\\lib\\site-packages\\torch\\nn\\modules\\module.py\", line 463, in cuda\n",
      "    return self._apply(lambda t: t.cuda(device))\n",
      "  File \"C:\\Toolkits\\anaconda3-5.2.0\\lib\\site-packages\\torch\\nn\\modules\\module.py\", line 359, in _apply\n",
      "    module._apply(fn)\n",
      "  File \"C:\\Toolkits\\anaconda3-5.2.0\\lib\\site-packages\\torch\\nn\\modules\\module.py\", line 359, in _apply\n",
      "    module._apply(fn)\n",
      "  File \"C:\\Toolkits\\anaconda3-5.2.0\\lib\\site-packages\\torch\\nn\\modules\\module.py\", line 381, in _apply\n",
      "    param_applied = fn(param)\n",
      "  File \"C:\\Toolkits\\anaconda3-5.2.0\\lib\\site-packages\\torch\\nn\\modules\\module.py\", line 463, in <lambda>\n",
      "    return self._apply(lambda t: t.cuda(device))\n",
      "  File \"C:\\Toolkits\\anaconda3-5.2.0\\lib\\site-packages\\torch\\cuda\\__init__.py\", line 166, in _lazy_init\n",
      "    raise AssertionError(\"Torch not compiled with CUDA enabled\")\n",
      "AssertionError: Torch not compiled with CUDA enabled\n"
     ]
    }
   ],
   "source": [
    "%%time\n",
    "!python main.py --arch=\"resnet32_l0\""
   ]
  },
  {
   "cell_type": "markdown",
   "metadata": {},
   "source": [
    "# Test Models"
   ]
  },
  {
   "cell_type": "code",
   "execution_count": null,
   "metadata": {},
   "outputs": [],
   "source": []
  }
 ],
 "metadata": {
  "kernelspec": {
   "display_name": "Python 3",
   "language": "python",
   "name": "python3"
  },
  "language_info": {
   "codemirror_mode": {
    "name": "ipython",
    "version": 3
   },
   "file_extension": ".py",
   "mimetype": "text/x-python",
   "name": "python",
   "nbconvert_exporter": "python",
   "pygments_lexer": "ipython3",
   "version": "3.6.5"
  }
 },
 "nbformat": 4,
 "nbformat_minor": 2
}
